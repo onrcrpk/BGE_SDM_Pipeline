{
 "cells": [
  {
   "cell_type": "code",
   "execution_count": 8,
   "id": "41a4fecd-55b4-4bb4-9e25-44d3e6728539",
   "metadata": {},
   "outputs": [],
   "source": [
    "import pandas as pd"
   ]
  },
  {
   "cell_type": "code",
   "execution_count": 9,
   "id": "12120dae-33cc-4aef-a81d-fe4602a18b41",
   "metadata": {},
   "outputs": [],
   "source": [
    "import os"
   ]
  },
  {
   "cell_type": "code",
   "execution_count": 10,
   "id": "58bd6052-80a3-4bf2-8ce0-58b6d1dcad58",
   "metadata": {},
   "outputs": [],
   "source": [
    "path = 'Gaplist/Lepidoptera'"
   ]
  },
  {
   "cell_type": "code",
   "execution_count": 11,
   "id": "2dc767f4-2f32-49e7-a6f8-9e6c2a6450e5",
   "metadata": {},
   "outputs": [],
   "source": [
    "files = os.listdir(path)"
   ]
  },
  {
   "cell_type": "code",
   "execution_count": 12,
   "id": "0a33ce89-6390-43b0-a8e1-33f5c10ceccd",
   "metadata": {},
   "outputs": [],
   "source": [
    "for file in files:\n",
    "    df = pd.read_excel(f'{path}/{file}')\n",
    "    df.to_csv(f'{path}/{file}.csv', index=False)"
   ]
  }
 ],
 "metadata": {
  "kernelspec": {
   "display_name": "Python",
   "language": "python",
   "name": "python3"
  },
  "language_info": {
   "codemirror_mode": {
    "name": "ipython",
    "version": 3
   },
   "file_extension": ".py",
   "mimetype": "text/x-python",
   "name": "python",
   "nbconvert_exporter": "python",
   "pygments_lexer": "ipython3",
   "version": "3.8.10"
  }
 },
 "nbformat": 4,
 "nbformat_minor": 5
}
